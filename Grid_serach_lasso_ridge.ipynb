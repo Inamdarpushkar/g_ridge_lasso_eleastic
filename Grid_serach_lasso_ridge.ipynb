{
 "cells": [
  {
   "cell_type": "code",
   "execution_count": 57,
   "metadata": {},
   "outputs": [],
   "source": [
    "#import libraries\n",
    "import numpy as np\n",
    "import random\n",
    "import pandas as pd\n",
    "from sklearn import datasets\n",
    "from sklearn.linear_model import Ridge\n",
    "from sklearn.model_selection import GridSearchCV\n",
    "from scipy.stats import uniform as sp_rand\n",
    "from sklearn.model_selection import RandomizedSearchCV\n",
    "random.seed(10)\n",
    "#load datasets\n",
    "dataset=datasets.load_diabetes()"
   ]
  },
  {
   "cell_type": "code",
   "execution_count": 58,
   "metadata": {},
   "outputs": [
    {
     "name": "stdout",
     "output_type": "stream",
     "text": [
      "GridSearchCV(cv=None, error_score='raise',\n",
      "       estimator=Ridge(alpha=1.0, copy_X=True, fit_intercept=True, max_iter=None,\n",
      "   normalize=False, random_state=None, solver='auto', tol=0.001),\n",
      "       fit_params=None, iid=True, n_jobs=1,\n",
      "       param_grid={'alpha': array([1.0e+00, 1.0e-01, 1.0e-02, 1.0e-03, 1.0e-04, 0.0e+00, 5.9e-02])},\n",
      "       pre_dispatch='2*n_jobs', refit=True, return_train_score=True,\n",
      "       scoring=None, verbose=0)\n",
      "0.48916772905841344\n",
      "0.059\n"
     ]
    }
   ],
   "source": [
    "#Grid Search Parameter Tuning\n",
    "\n",
    "#tuning hyperparameter\n",
    "alphas=np.array([1,0.1,0.01,0.001,0.0001,0,0.059])\n",
    "model=Ridge()\n",
    "\n",
    "#Searching best aplhas\n",
    "grid=GridSearchCV(estimator=model,param_grid=dict(alpha=alphas))\n",
    "\n",
    "#Viewing data and target variables\n",
    "dataset1=pd.DataFrame(dataset.data)\n",
    "datasetT=pd.DataFrame(dataset.target)\n",
    "\n",
    "grid.fit(dataset.data,dataset.target)\n",
    "print(grid)\n",
    "print(grid.best_score_)\n",
    "print(grid.best_estimator_.alpha)"
   ]
  },
  {
   "cell_type": "code",
   "execution_count": 59,
   "metadata": {},
   "outputs": [
    {
     "name": "stdout",
     "output_type": "stream",
     "text": [
      "RandomizedSearchCV(cv=None, error_score='raise',\n",
      "          estimator=Ridge(alpha=1.0, copy_X=True, fit_intercept=True, max_iter=None,\n",
      "   normalize=False, random_state=None, solver='auto', tol=0.001),\n",
      "          fit_params=None, iid=True, n_iter=100, n_jobs=1,\n",
      "          param_distributions={'alpha': <scipy.stats._distn_infrastructure.rv_frozen object at 0x110b91e48>},\n",
      "          pre_dispatch='2*n_jobs', random_state=None, refit=True,\n",
      "          return_train_score=True, scoring=None, verbose=0)\n",
      "0.4889966587953918\n",
      "0.07961169942801338\n"
     ]
    }
   ],
   "source": [
    "#Random Search PArameter Tuning\n",
    "paran_grid={'alpha': sp_rand()}\n",
    "research=RandomizedSearchCV(estimator=model,param_distributions=paran_grid,n_iter=100)\n",
    "research.fit(dataset.data,dataset.target)\n",
    "print(research)\n",
    "print(research.best_score_)\n",
    "print(research.best_estimator_.alpha)"
   ]
  },
  {
   "cell_type": "code",
   "execution_count": 54,
   "metadata": {},
   "outputs": [
    {
     "data": {
      "text/plain": [
       "array([  -2.43473927, -220.42335729,  506.54842941,  310.89459997,\n",
       "       -132.52911928,  -40.79974615, -176.34954291,  113.64439951,\n",
       "        479.89494111,   79.70144988])"
      ]
     },
     "execution_count": 54,
     "metadata": {},
     "output_type": "execute_result"
    }
   ],
   "source": [
    "research.best_estimator_.coef_"
   ]
  },
  {
   "cell_type": "code",
   "execution_count": 55,
   "metadata": {},
   "outputs": [
    {
     "data": {
      "text/plain": [
       "152.13348416289642"
      ]
     },
     "execution_count": 55,
     "metadata": {},
     "output_type": "execute_result"
    }
   ],
   "source": [
    "research.best_estimator_.intercept_"
   ]
  },
  {
   "cell_type": "code",
   "execution_count": 56,
   "metadata": {},
   "outputs": [
    {
     "data": {
      "text/plain": [
       "Ridge(alpha=0.052896949518576486, copy_X=True, fit_intercept=True,\n",
       "   max_iter=None, normalize=False, random_state=None, solver='auto',\n",
       "   tol=0.001)"
      ]
     },
     "execution_count": 56,
     "metadata": {},
     "output_type": "execute_result"
    }
   ],
   "source": [
    "research.best_estimator_"
   ]
  },
  {
   "cell_type": "code",
   "execution_count": 60,
   "metadata": {},
   "outputs": [
    {
     "data": {
      "text/plain": [
       "{'alpha': 0.07961169942801338}"
      ]
     },
     "execution_count": 60,
     "metadata": {},
     "output_type": "execute_result"
    }
   ],
   "source": [
    "research.best_params_"
   ]
  },
  {
   "cell_type": "code",
   "execution_count": 66,
   "metadata": {},
   "outputs": [],
   "source": [
    "d=research.cv_results_.values()"
   ]
  },
  {
   "cell_type": "code",
   "execution_count": 68,
   "metadata": {},
   "outputs": [
    {
     "data": {
      "text/plain": [
       "['age', 'sex', 'bmi', 'bp', 's1', 's2', 's3', 's4', 's5', 's6']"
      ]
     },
     "execution_count": 68,
     "metadata": {},
     "output_type": "execute_result"
    }
   ],
   "source": [
    "dataset.feature_names"
   ]
  },
  {
   "cell_type": "code",
   "execution_count": 72,
   "metadata": {},
   "outputs": [
    {
     "name": "stdout",
     "output_type": "stream",
     "text": [
      "0.409 (+/-0.058) for {'alpha': 1.0}\n",
      "0.489 (+/-0.045) for {'alpha': 0.1}\n",
      "0.489 (+/-0.031) for {'alpha': 0.01}\n",
      "0.489 (+/-0.032) for {'alpha': 0.001}\n",
      "0.489 (+/-0.033) for {'alpha': 0.0001}\n",
      "0.489 (+/-0.033) for {'alpha': 0.0}\n",
      "0.489 (+/-0.039) for {'alpha': 0.059}\n"
     ]
    }
   ],
   "source": [
    "means = grid.cv_results_['mean_test_score']\n",
    "stds = grid.cv_results_['std_test_score']\n",
    "\n",
    "for mean, std, params in zip(means, stds, grid.cv_results_['params']):\n",
    "    print(\"%0.3f (+/-%0.03f) for %r\"% (mean, std * 2, params))"
   ]
  },
  {
   "cell_type": "code",
   "execution_count": 73,
   "metadata": {},
   "outputs": [
    {
     "name": "stdout",
     "output_type": "stream",
     "text": [
      "0.471 (+/-0.060) for {'alpha': 0.34906074419056543}\n",
      "0.489 (+/-0.044) for {'alpha': 0.09764201801435168}\n",
      "0.430 (+/-0.061) for {'alpha': 0.7665137947451551}\n",
      "0.469 (+/-0.061) for {'alpha': 0.37147646151356617}\n",
      "0.484 (+/-0.053) for {'alpha': 0.18661634232873447}\n",
      "0.473 (+/-0.060) for {'alpha': 0.32750062619231024}\n",
      "0.420 (+/-0.060) for {'alpha': 0.8788923318726343}\n",
      "0.437 (+/-0.062) for {'alpha': 0.6935893877792717}\n",
      "0.467 (+/-0.061) for {'alpha': 0.38940165922034753}\n",
      "0.416 (+/-0.059) for {'alpha': 0.9257712501246508}\n",
      "0.443 (+/-0.062) for {'alpha': 0.6344418967984286}\n",
      "0.453 (+/-0.062) for {'alpha': 0.52730710030254}\n",
      "0.485 (+/-0.051) for {'alpha': 0.16678663281160488}\n",
      "0.489 (+/-0.042) for {'alpha': 0.07961169942801338}\n",
      "0.418 (+/-0.060) for {'alpha': 0.900940425786616}\n",
      "0.470 (+/-0.060) for {'alpha': 0.3546870878944476}\n",
      "0.414 (+/-0.059) for {'alpha': 0.9502302869579431}\n",
      "0.484 (+/-0.053) for {'alpha': 0.1876835313378844}\n",
      "0.428 (+/-0.061) for {'alpha': 0.7963955020637604}\n",
      "0.435 (+/-0.062) for {'alpha': 0.711899205221003}\n",
      "0.474 (+/-0.059) for {'alpha': 0.3179427989464292}\n",
      "0.436 (+/-0.062) for {'alpha': 0.7056815172569505}\n",
      "0.489 (+/-0.043) for {'alpha': 0.08917055314775457}\n",
      "0.438 (+/-0.062) for {'alpha': 0.6861225994296957}\n",
      "0.486 (+/-0.051) for {'alpha': 0.16089383338097318}\n",
      "0.488 (+/-0.048) for {'alpha': 0.1257823194050729}\n",
      "0.428 (+/-0.061) for {'alpha': 0.7866278764477292}\n",
      "0.417 (+/-0.060) for {'alpha': 0.916398597294111}\n",
      "0.418 (+/-0.060) for {'alpha': 0.9013905879579801}\n",
      "0.426 (+/-0.061) for {'alpha': 0.8154091743383164}\n",
      "0.474 (+/-0.059) for {'alpha': 0.3155277222930425}\n",
      "0.426 (+/-0.061) for {'alpha': 0.8175507367985217}\n",
      "0.484 (+/-0.054) for {'alpha': 0.19656051990748236}\n",
      "0.415 (+/-0.059) for {'alpha': 0.9294563736178516}\n",
      "0.446 (+/-0.062) for {'alpha': 0.6068364403767457}\n",
      "0.446 (+/-0.062) for {'alpha': 0.6071806237840305}\n",
      "0.482 (+/-0.055) for {'alpha': 0.21375867616366073}\n",
      "0.480 (+/-0.056) for {'alpha': 0.24068762779443242}\n",
      "0.460 (+/-0.062) for {'alpha': 0.463611220523409}\n",
      "0.447 (+/-0.062) for {'alpha': 0.5969001500199085}\n",
      "0.489 (+/-0.035) for {'alpha': 0.03495729122987801}\n",
      "0.415 (+/-0.059) for {'alpha': 0.9303068273600772}\n",
      "0.431 (+/-0.061) for {'alpha': 0.7581758225888451}\n",
      "0.479 (+/-0.057) for {'alpha': 0.2599994001833049}\n",
      "0.441 (+/-0.062) for {'alpha': 0.6504801396613459}\n",
      "0.478 (+/-0.058) for {'alpha': 0.26953033370362556}\n",
      "0.484 (+/-0.053) for {'alpha': 0.18235617776603064}\n",
      "0.432 (+/-0.061) for {'alpha': 0.7482971023819799}\n",
      "0.473 (+/-0.060) for {'alpha': 0.3234918026945476}\n",
      "0.457 (+/-0.062) for {'alpha': 0.486463118122742}\n",
      "0.447 (+/-0.062) for {'alpha': 0.5971754220584427}\n",
      "0.449 (+/-0.062) for {'alpha': 0.5674470222463128}\n",
      "0.456 (+/-0.062) for {'alpha': 0.5057691830693877}\n",
      "0.417 (+/-0.060) for {'alpha': 0.9180070443246792}\n",
      "0.471 (+/-0.060) for {'alpha': 0.34233216099093466}\n",
      "0.415 (+/-0.059) for {'alpha': 0.9346883427316943}\n",
      "0.463 (+/-0.062) for {'alpha': 0.4286823764698575}\n",
      "0.425 (+/-0.061) for {'alpha': 0.8264842119168908}\n",
      "0.482 (+/-0.055) for {'alpha': 0.21528521720412064}\n",
      "0.447 (+/-0.062) for {'alpha': 0.591886390975749}\n",
      "0.418 (+/-0.060) for {'alpha': 0.9059970473478572}\n",
      "0.434 (+/-0.062) for {'alpha': 0.7306616707342736}\n",
      "0.437 (+/-0.062) for {'alpha': 0.6976367489904232}\n",
      "0.452 (+/-0.062) for {'alpha': 0.5450545176040066}\n",
      "0.481 (+/-0.056) for {'alpha': 0.234889687401298}\n",
      "0.483 (+/-0.054) for {'alpha': 0.20051138268988522}\n",
      "0.489 (+/-0.035) for {'alpha': 0.03507809827084318}\n",
      "0.425 (+/-0.061) for {'alpha': 0.8225844790452017}\n",
      "0.484 (+/-0.053) for {'alpha': 0.19331117535350928}\n",
      "0.429 (+/-0.061) for {'alpha': 0.776076883764326}\n",
      "0.464 (+/-0.062) for {'alpha': 0.4141595680971085}\n",
      "0.454 (+/-0.062) for {'alpha': 0.5211165165569909}\n",
      "0.477 (+/-0.058) for {'alpha': 0.2786599499404765}\n",
      "0.443 (+/-0.062) for {'alpha': 0.6338909358908887}\n",
      "0.483 (+/-0.054) for {'alpha': 0.20771086217456236}\n",
      "0.471 (+/-0.060) for {'alpha': 0.3434413200851557}\n",
      "0.488 (+/-0.047) for {'alpha': 0.11682438958484098}\n",
      "0.433 (+/-0.062) for {'alpha': 0.7334919884383131}\n",
      "0.470 (+/-0.060) for {'alpha': 0.35426386057097914}\n",
      "0.472 (+/-0.060) for {'alpha': 0.33324542977357174}\n",
      "0.474 (+/-0.059) for {'alpha': 0.31763555026612666}\n",
      "0.430 (+/-0.061) for {'alpha': 0.7746498858996489}\n",
      "0.489 (+/-0.033) for {'alpha': 0.02124201546730209}\n",
      "0.415 (+/-0.059) for {'alpha': 0.9373286636743863}\n",
      "0.417 (+/-0.060) for {'alpha': 0.91503794150065}\n",
      "0.424 (+/-0.061) for {'alpha': 0.8308222128852613}\n",
      "0.487 (+/-0.049) for {'alpha': 0.14408238698299336}\n",
      "0.412 (+/-0.059) for {'alpha': 0.9738181547748809}\n",
      "0.455 (+/-0.062) for {'alpha': 0.5091402645719533}\n",
      "0.451 (+/-0.062) for {'alpha': 0.5504986554318054}\n",
      "0.489 (+/-0.043) for {'alpha': 0.08849758260273277}\n",
      "0.439 (+/-0.062) for {'alpha': 0.6714279916273077}\n",
      "0.414 (+/-0.059) for {'alpha': 0.9437573248388224}\n",
      "0.467 (+/-0.061) for {'alpha': 0.3855313272919664}\n",
      "0.478 (+/-0.058) for {'alpha': 0.27240091280592404}\n",
      "0.412 (+/-0.059) for {'alpha': 0.9719251099557432}\n",
      "0.425 (+/-0.061) for {'alpha': 0.8225724546814626}\n",
      "0.453 (+/-0.062) for {'alpha': 0.5360565069540116}\n",
      "0.473 (+/-0.060) for {'alpha': 0.3231227265603347}\n",
      "0.486 (+/-0.050) for {'alpha': 0.15004055372177516}\n"
     ]
    }
   ],
   "source": [
    "means = research.cv_results_['mean_test_score']\n",
    "stds = research.cv_results_['std_test_score']\n",
    "\n",
    "for mean, std, params in zip(means, stds, research.cv_results_['params']):\n",
    "    print(\"%0.3f (+/-%0.03f) for %r\"% (mean, std * 2, params))"
   ]
  },
  {
   "cell_type": "code",
   "execution_count": 74,
   "metadata": {},
   "outputs": [
    {
     "data": {
      "text/plain": [
       "Ridge(alpha=0.07961169942801338, copy_X=True, fit_intercept=True,\n",
       "   max_iter=None, normalize=False, random_state=None, solver='auto',\n",
       "   tol=0.001)"
      ]
     },
     "execution_count": 74,
     "metadata": {},
     "output_type": "execute_result"
    }
   ],
   "source": [
    "research.best_estimator_"
   ]
  },
  {
   "cell_type": "code",
   "execution_count": null,
   "metadata": {
    "collapsed": true
   },
   "outputs": [],
   "source": []
  }
 ],
 "metadata": {
  "kernelspec": {
   "display_name": "Python [conda env:anaconda]",
   "language": "python",
   "name": "conda-env-anaconda-py"
  },
  "language_info": {
   "codemirror_mode": {
    "name": "ipython",
    "version": 3
   },
   "file_extension": ".py",
   "mimetype": "text/x-python",
   "name": "python",
   "nbconvert_exporter": "python",
   "pygments_lexer": "ipython3",
   "version": "3.6.5"
  }
 },
 "nbformat": 4,
 "nbformat_minor": 2
}
